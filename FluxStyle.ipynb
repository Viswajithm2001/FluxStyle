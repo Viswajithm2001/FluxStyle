{
  "nbformat": 4,
  "nbformat_minor": 0,
  "metadata": {
    "colab": {
      "provenance": [],
      "authorship_tag": "ABX9TyN+jLqeb8VrHA08AcelOvOz",
      "include_colab_link": true
    },
    "kernelspec": {
      "name": "python3",
      "display_name": "Python 3"
    },
    "language_info": {
      "name": "python"
    }
  },
  "cells": [
    {
      "cell_type": "markdown",
      "metadata": {
        "id": "view-in-github",
        "colab_type": "text"
      },
      "source": [
        "<a href=\"https://colab.research.google.com/github/Viswajithm2001/FluxStyle/blob/main/FluxStyle.ipynb\" target=\"_parent\"><img src=\"https://colab.research.google.com/assets/colab-badge.svg\" alt=\"Open In Colab\"/></a>"
      ]
    },
    {
      "cell_type": "code",
      "execution_count": 3,
      "metadata": {
        "colab": {
          "base_uri": "https://localhost:8080/"
        },
        "id": "8M4WysyZ5E2C",
        "outputId": "8c530926-54d0-4041-f199-94fe2d4ac0b8"
      },
      "outputs": [
        {
          "output_type": "stream",
          "name": "stdout",
          "text": [
            "✅ Installation complete!\n"
          ]
        }
      ],
      "source": [
        "# ----------------------------\n",
        "# 1️⃣ Install Required Packages\n",
        "# ----------------------------\n",
        "\n",
        "# Core PyTorch framework for AI models\n",
        "!pip install torch torchvision torchaudio --quiet\n",
        "\n",
        "# Hugging Face diffusers + transformers for AI pipelines\n",
        "!pip install diffusers transformers accelerate --quiet\n",
        "\n",
        "# Gradio for interactive demo UI\n",
        "!pip install gradio --quiet\n",
        "\n",
        "# Efficient handling of model weights\n",
        "!pip install safetensors --quiet\n",
        "\n",
        "print(\"✅ Installation complete!\")\n",
        "\n",
        "\n"
      ]
    },
    {
      "cell_type": "code",
      "source": [],
      "metadata": {
        "id": "tACvVo2669o4"
      },
      "execution_count": null,
      "outputs": []
    }
  ]
}